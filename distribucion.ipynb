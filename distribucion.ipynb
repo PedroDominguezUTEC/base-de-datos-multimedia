{
 "cells": [
  {
   "cell_type": "code",
   "execution_count": 12,
   "source": [
    "from initialization import load_json, calculate_radius\n",
    "import matplotlib.pyplot as plt\n",
    "import random\n",
    "import face_recognition\n",
    "\n",
    "dataset = load_json()\n",
    "\n",
    "vector_dist = []\n",
    "for i in range(5000):\n",
    "    obj_1 = random.choice(dataset)[1]\n",
    "    obj_2 = random.choice(dataset)[1]\n",
    "    dist = face_recognition.face_distance(obj_1, obj_2[0])\n",
    "    for dis in dist:\n",
    "        vector_dist.append(dis)\n",
    "\n",
    "plt.hist(vector_dist)\n"
   ],
   "outputs": [
    {
     "output_type": "execute_result",
     "data": {
      "text/plain": [
       "(array([   6.,   10.,   17.,  123.,  702., 1638., 1691.,  937.,  197.,\n",
       "          27.]),\n",
       " array([0.32903781, 0.40976236, 0.49048691, 0.57121146, 0.65193601,\n",
       "        0.73266056, 0.81338511, 0.89410966, 0.97483421, 1.05555876,\n",
       "        1.13628331]),\n",
       " <BarContainer object of 10 artists>)"
      ]
     },
     "metadata": {},
     "execution_count": 12
    },
    {
     "output_type": "display_data",
     "data": {
      "image/png": "[encoded data removed]",
      "text/plain": [
       "<Figure size 432x288 with 1 Axes>"
      ]
     },
     "metadata": {
      "needs_background": "light"
     }
    }
   ],
   "metadata": {}
  }
 ],
 "metadata": {
  "orig_nbformat": 4,
  "language_info": {
   "name": "python",
   "version": "3.9.5",
   "mimetype": "text/x-python",
   "codemirror_mode": {
    "name": "ipython",
    "version": 3
   },
   "pygments_lexer": "ipython3",
   "nbconvert_exporter": "python",
   "file_extension": ".py"
  },
  "kernelspec": {
   "name": "python3",
   "display_name": "Python 3.9.5 64-bit"
  },
  "interpreter": {
   "hash": "916dbcbb3f70747c44a77c7bcd40155683ae19c65e1c03b4aa3499c5328201f1"
  }
 },
 "nbformat": 4,
 "nbformat_minor": 2
}