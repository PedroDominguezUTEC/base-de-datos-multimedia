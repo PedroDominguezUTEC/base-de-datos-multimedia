{
 "cells": [
  {
   "cell_type": "markdown",
   "source": [
    "# P2 Face recognition"
   ],
   "metadata": {}
  },
  {
   "cell_type": "code",
   "execution_count": 1,
   "source": [
    "import random\n",
    "import os\n",
    "import face_recognition\n",
    "import matplotlib.pyplot as plt"
   ],
   "outputs": [],
   "metadata": {}
  },
  {
   "cell_type": "code",
   "execution_count": 2,
   "source": [
    "data_row = dict()\n",
    "for file in os.listdir(\"./lfw/\"):\n",
    "    subdir = os.path.join(\"./lfw/\", file)\n",
    "    for pic in os.listdir(subdir):\n",
    "        path = os.path.join(subdir, pic)\n",
    "        data_row[pic] = face_recognition.load_image_file(path)"
   ],
   "outputs": [],
   "metadata": {}
  },
  {
   "cell_type": "code",
   "execution_count": 3,
   "source": [
    "\n",
    "N = 5000\n",
    "vector_dist = []\n",
    "for i in range(N):\n",
    "    obj_1 = random.choice(list(data_row.values()))\n",
    "    obj_2 = random.choice(list(data_row.values()))\n",
    "    dist = face_recognition.face_distance(obj_1, obj_2)\n",
    "    vector_dist.append(dist)\n"
   ],
   "outputs": [],
   "metadata": {}
  },
  {
   "cell_type": "code",
   "execution_count": 4,
   "source": [
    "for i in range(10):\n",
    "    plt.hist(vector_dist[i])\n"
   ],
   "outputs": [
    {
     "output_type": "display_data",
     "data": {
      "image/png": "[encoded data removed]",
      "text/plain": [
       "<Figure size 432x288 with 1 Axes>"
      ]
     },
     "metadata": {
      "needs_background": "light"
     }
    }
   ],
   "metadata": {}
  }
 ],
 "metadata": {
  "orig_nbformat": 4,
  "language_info": {
   "name": "python",
   "version": "3.9.5",
   "mimetype": "text/x-python",
   "codemirror_mode": {
    "name": "ipython",
    "version": 3
   },
   "pygments_lexer": "ipython3",
   "nbconvert_exporter": "python",
   "file_extension": ".py"
  },
  "kernelspec": {
   "name": "python3",
   "display_name": "Python 3.9.5 64-bit"
  },
  "interpreter": {
   "hash": "31f2aee4e71d21fbe5cf8b01ff0e069b9275f58929596ceb00d14d90e3e16cd6"
  }
 },
 "nbformat": 4,
 "nbformat_minor": 2
}